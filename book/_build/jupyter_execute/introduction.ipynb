{
 "cells": [
  {
   "cell_type": "markdown",
   "metadata": {},
   "source": [
    "# CISC5790 Project\n",
    "\n",
    "This project is a key component of the CISC5790 course, which emphasizes the application of data science techniques to real-world problems. Our team, consisting of four members, has undertaken this project to analyze a health-related dataset, uncover actionable insights, and develop predictive models. This endeavor provides a practical opportunity to apply the data science skills and methodologies we have acquired throughout the course, including data preprocessing, exploratory analysis, and machine learning.\n",
    "\n",
    "## Introduction\n",
    "\n",
    "The dataset selected for this project is the \"Alzheimer's Disease Dataset\" by Rabie El Kharoua, sourced from Kaggle ([https://www.kaggle.com/datasets/rabieelkharoua/alzheimers-disease-dataset](https://www.kaggle.com/datasets/rabieelkharoua/alzheimers-disease-dataset)). It contains detailed health-related information for patients, encompassing demographic details, lifestyle factors, medical history, clinical measurements, cognitive assessments, and behavioral indicators. We chose this dataset because it offers a robust set of 34 features and 2,149 records, providing a solid foundation for applying various data science algorithms. The dataset focuses on Alzheimer’s disease, with a binary target variable (`Diagnosis`) indicating the presence or absence of the condition, making it an ideal candidate for investigating predictors of Alzheimer’s disease through binary classification.\n",
    "\n",
    "## Our Goals\n",
    "\n",
    "Our primary objective is to analyze this health dataset to identify meaningful patterns and relationships among the variables, with a focus on understanding factors associated with Alzheimer’s disease. Specifically, we aim to:\n",
    "- Conduct thorough exploratory data analysis (EDA) to uncover trends, correlations, and potential predictors of Alzheimer’s disease, such as the role of cognitive metrics like the Mini-Mental State Examination (MMSE) score.\n",
    "- Build and evaluate a predictive model to accurately classify patients as having Alzheimer’s disease (1) or not (0), targeting an F1-score of at least 90% for both classes despite potential class imbalances.\n",
    "- Identify the most influential features contributing to Alzheimer’s diagnosis through feature importance analysis, providing insights that could inform clinical understanding and decision-making.\n",
    "\n",
    "\n",
    "As we progress, we will refine these objectives based on insights gained during EDA and model development, potentially exploring additional models or feature engineering techniques to enhance performance.\n",
    "\n",
    "## Dataset Overview\n",
    "\n",
    "The dataset comprises 2,149 patient records, each with 35 columns (34 features and 1 target variable). The features include:\n",
    "- **Demographic Information:** PatientID, Age, Gender, Ethnicity, and EducationLevel.\n",
    "- **Lifestyle Factors:** BMI, Smoking, AlcoholConsumption, PhysicalActivity, DietQuality, and SleepQuality.\n",
    "- **Medical History:** FamilyHistoryAlzheimers, CardiovascularDisease, Diabetes, Depression, HeadInjury, and Hypertension.\n",
    "- **Clinical Measurements:** SystolicBP, DiastolicBP, CholesterolTotal, CholesterolLDL, CholesterolHDL, and CholesterolTriglycerides.\n",
    "- **Cognitive and Functional Assessments:** MMSE, FunctionalAssessment, MemoryComplaints, BehavioralProblems, and ADL.\n",
    "- **Behavioral Indicators:** Confusion, Disorientation, PersonalityChanges, DifficultyCompletingTasks, and Forgetfulness.\n",
    "- **Metadata:** DoctorInCharge.\n",
    "\n",
    "The target variable, `Diagnosis`, is binary:\n",
    "- 0: No Alzheimer’s (healthy or non-demented)\n",
    "- 1: Alzheimer’s (demented)\n"
   ]
  }
 ],
 "metadata": {
  "language_info": {
   "codemirror_mode": {
    "name": "ipython",
    "version": 3
   },
   "file_extension": ".py",
   "mimetype": "text/x-python",
   "name": "python",
   "nbconvert_exporter": "python",
   "pygments_lexer": "ipython3",
   "version": "3.11.2"
  }
 },
 "nbformat": 4,
 "nbformat_minor": 2
}