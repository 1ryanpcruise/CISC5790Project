{
 "cells": [
  {
   "cell_type": "markdown",
   "metadata": {},
   "source": [
    "# CISC5790 Project\n",
    "\n",
    "This project is part of the CISC5790 course, which focuses on applying data science techniques to real-world datasets. Our team of four members has undertaken this project to explore and analyze a health-related dataset, aiming to uncover meaningful insights and develop predictive models. The project serves as an opportunity to apply the skills and knowledge we've gained throughout the course in a practical setting."
   ]
  },
  {
   "cell_type": "markdown",
   "metadata": {},
   "source": [
    "## Indroduction\n",
    "\n",
    "The dataset selected for this project is sourced from Kaggle and contains detailed health-related information for numerous patients. It includes demographic details, lifestyle factors, medical history, and cognitive assessments, making it a rich source for analysis. We chose this dataset because we felt it provides a good number of features and rows, allowing us to base different data science algorithms on it effectively. The data likely relate to neurodegenerative conditions such as Alzheimer’s disease, providing an opportunity to investigate patterns and predictors of diagnosis."
   ]
  },
  {
   "cell_type": "markdown",
   "metadata": {},
   "source": [
    "## Our goal\n",
    "\n",
    "Our primary goal is to analyze this health dataset to uncover meaningful patterns and relationships among the variables, with a particular focus on understanding factors related to cognitive health outcomes. We aim to preprocess the data effectively, conduct exploratory data analysis to identify trends and correlations, and ultimately build models to predict or describe patient diagnoses. As we delve deeper into the data, we will refine our objectives based on the insights we gain."
   ]
  },
  {
   "cell_type": "markdown",
   "metadata": {},
   "source": [
    "## Dataset Overview\n",
    "\n",
    "The dataset comprises approximately 2,000 patient records, each with 34 features. These features include demographic information such as Age, Gender, and Ethnicity; lifestyle factors like Smoking and AlcoholConsumption; medical history indicators such as Diabetes and Hypertension; and cognitive metrics including MMSE (Mini-Mental State Examination) and MemoryComplaints. The dataset also contains a Diagnosis column, which is likely the target variable for our analysis. Initial inspection reveals a mix of numerical, categorical, and binary variables, with some features potentially requiring preprocessing due to missing values or varying scales."
   ]
  }
 ],
 "metadata": {
  "language_info": {
   "codemirror_mode": {
    "name": "ipython",
    "version": 3
   },
   "file_extension": ".py",
   "mimetype": "text/x-python",
   "name": "python",
   "nbconvert_exporter": "python",
   "pygments_lexer": "ipython3",
   "version": "3.11.2"
  }
 },
 "nbformat": 4,
 "nbformat_minor": 2
}