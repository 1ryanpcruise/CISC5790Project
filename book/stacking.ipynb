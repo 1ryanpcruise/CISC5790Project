{
 "cells": [
  {
   "cell_type": "markdown",
   "metadata": {},
   "source": [
    "# Stacking Models\n",
    "\n",
    "In this section we will use the results from the KNN and Random Forest algorithms to train a new model.\n",
    "\n",
    "\n",
    "- Ensure alignment of rows / features\n",
    "- Choose of meta classifier\n",
    "- We can tune the stacking model too\n"
   ]
  }
 ],
 "metadata": {
  "language_info": {
   "name": "python"
  }
 },
 "nbformat": 4,
 "nbformat_minor": 2
}
